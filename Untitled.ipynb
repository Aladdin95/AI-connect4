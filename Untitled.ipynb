{
 "cells": [
  {
   "cell_type": "code",
   "execution_count": 1,
   "metadata": {},
   "outputs": [],
   "source": [
    "import numpy as np\n",
    "\n",
    "\n",
    "class Connect4:\n",
    "    def __init__(self, width=7, height=6, player1='player1', player2='player2'):\n",
    "        self.__board = np.full((height, width), None)\n",
    "        self.__pos = width * [height - 1]\n",
    "        self.__lists = []\n",
    "        self.__player1 = player1\n",
    "        self.__player2 = player2\n",
    "        self.__width = width\n",
    "        self.__height = height\n",
    "\n",
    "    def play(self, player, col):\n",
    "        row = self.__pos[col]\n",
    "        assert row >= 0, 'this column is full can\\'t put more pieces in it'\n",
    "        assert player in [self.__player1, self.__player2], '{} is not a player in this game'.format(player)\n",
    "        self.__board[row][col] = player\n",
    "        self.__pos[col] -= 1\n",
    "\n",
    "    def get_state(self):\n",
    "        return self.__board\n",
    "    \n",
    "    def get_player1(self):\n",
    "        return self.__player1\n",
    "\n",
    "    def get_player2(self):\n",
    "        return self.__player2\n",
    "\n",
    "    def set_player1(self, player_name):\n",
    "        assert not self.__board.any(), 'player name can\\'t be set during the game'\n",
    "        self.__player1 = player_name\n",
    "\n",
    "    def set_player2(self, player_name):\n",
    "        assert not self.__board.any(), 'player name can\\'t be set during the game'\n",
    "        self.__player2 = player_name\n",
    "\n",
    "    def is_winner(self,board,player):\n",
    "        #detect vertical\n",
    "        for i in range(self.__width):\n",
    "            count=0\n",
    "            for j in range(self.__height):\n",
    "                if(self.__board[j][i]==player):\n",
    "                    count+=1\n",
    "                else:\n",
    "                    count=0\n",
    "                if(count>=4):\n",
    "                    return(1)\n",
    "        \n",
    "       \n",
    "        \n",
    "        #detect horizontal\n",
    "        for i in range(self.__height):\n",
    "            count=0\n",
    "            for j in range(self.__width):\n",
    "                if(self.__board[i][j]==player):\n",
    "                    count+=1\n",
    "                else:\n",
    "                    count=0\n",
    "                    \n",
    "                if(count>=4):\n",
    "                    return(1)         \n",
    "                \n",
    "                \n",
    "        \n",
    "        #detect diagonal /\n",
    "        for i in range(3,self.__height):\n",
    "            for j in range(self.__width-3):\n",
    "                if(self.__board[i][j]==player and self.__board[i-1][j+1]==player\n",
    "                  and self.__board[i-2][j+2]==player and self.__board[i-3][j+3]==player):\n",
    "                    return(1)\n",
    "                \n",
    "                \n",
    "        #detect diagonal \\\n",
    "        for i in range(3,self.__height):\n",
    "            for j in range(3,self.__width):\n",
    "                if(self.__board[i][j]==player and self.__board[i-1][j-1]==player\n",
    "                  and self.__board[i-2][j-2]==player and self.__board[i-3][j-3]==player):\n",
    "                    return(1)\n",
    "            \n",
    "        full=1\n",
    "        for i in range(self.__height): \n",
    "             for j in range(self.__width):\n",
    "                    if(self.__board[i][j]==None):\n",
    "                        full=0\n",
    "                        break\n",
    "        if(full==1):\n",
    "            return(-1)\n",
    "        \n",
    "        return 0\n",
    "    \n",
    "    def next_state(self,state , player_name):\n",
    "        boards = []\n",
    "        for j in range(7):\n",
    "            board = state.copy()\n",
    "            if board[0][j] == None:\n",
    "                \n",
    "                col_free_flag = 0\n",
    "                for i in range(1,6):\n",
    "                    if board[i][j] != None:\n",
    "                        col_free_flag = 1 #the column not empty\n",
    "                        board[i-1][j] = player_name\n",
    "                        boards.append(board)\n",
    "                        break\n",
    "                if col_free_flag==0: \n",
    "                    board[5][j] = player_name\n",
    "                    boards.append(board)\n",
    "                \n",
    "        return boards   \n",
    "        \n",
    "\n",
    "    def show(self):\n",
    "        p1 = self.__player1\n",
    "        p2 = self.__player2\n",
    "        length = max(len(p1), len(p2), 4)\n",
    "        for i in self.__board:\n",
    "            for j in i:\n",
    "                print(str(j).ljust(length), end=\"   \")\n",
    "            print()\n"
   ]
  },
  {
   "cell_type": "code",
   "execution_count": 2,
   "metadata": {},
   "outputs": [],
   "source": [
    "game = Connect4()"
   ]
  },
  {
   "cell_type": "code",
   "execution_count": 3,
   "metadata": {},
   "outputs": [],
   "source": [
    "game.set_player1('Omar')"
   ]
  },
  {
   "cell_type": "code",
   "execution_count": 4,
   "metadata": {},
   "outputs": [],
   "source": [
    "game.set_player2('Hekal')"
   ]
  },
  {
   "cell_type": "code",
   "execution_count": 5,
   "metadata": {},
   "outputs": [
    {
     "name": "stdout",
     "output_type": "stream",
     "text": [
      "None    None    None    None    None    None    None    \n",
      "None    None    None    None    None    None    None    \n",
      "None    None    None    None    None    None    None    \n",
      "None    None    None    None    None    None    None    \n",
      "None    None    None    None    None    None    None    \n",
      "None    None    None    Omar    None    None    None    \n"
     ]
    }
   ],
   "source": [
    "game.play('Omar',3)\n",
    "game.show()"
   ]
  },
  {
   "cell_type": "code",
   "execution_count": 48,
   "metadata": {},
   "outputs": [
    {
     "name": "stdout",
     "output_type": "stream",
     "text": [
      "None    None    None    None    None    None    None    \n",
      "None    None    None    None    None    None    None    \n",
      "None    None    None    None    None    None    None    \n",
      "None    None    None    None    None    None    None    \n",
      "None    None    None    Hekal   None    None    None    \n",
      "None    None    None    Omar    None    None    None    \n"
     ]
    }
   ],
   "source": [
    "game.play('Hekal',3)\n",
    "game.show()"
   ]
  },
  {
   "cell_type": "code",
   "execution_count": 49,
   "metadata": {},
   "outputs": [
    {
     "name": "stdout",
     "output_type": "stream",
     "text": [
      "[[None None None None None None None]\n",
      " [None None None None None None None]\n",
      " [None None None None None None None]\n",
      " [None None None None None None None]\n",
      " [None None None 'Hekal' None None None]\n",
      " [None None None 'Omar' None None None]]\n"
     ]
    }
   ],
   "source": [
    "state = game._Connect4__board\n",
    "print(state)"
   ]
  },
  {
   "cell_type": "code",
   "execution_count": 53,
   "metadata": {},
   "outputs": [],
   "source": [
    "nexty=game.next_state(state,'Hekal')"
   ]
  },
  {
   "cell_type": "code",
   "execution_count": 54,
   "metadata": {},
   "outputs": [
    {
     "name": "stdout",
     "output_type": "stream",
     "text": [
      "None    None    None    None    None    None    None    \n",
      "None    None    None    None    None    None    None    \n",
      "None    None    None    None    None    None    None    \n",
      "None    None    None    None    None    None    None    \n",
      "None    None    None    Hekal   None    None    None    \n",
      "None    None    None    Omar    None    None    None    \n"
     ]
    }
   ],
   "source": [
    "game.show()"
   ]
  },
  {
   "cell_type": "code",
   "execution_count": 55,
   "metadata": {},
   "outputs": [
    {
     "data": {
      "text/plain": [
       "[array([[None, None, None, None, None, None, None],\n",
       "        [None, None, None, None, None, None, None],\n",
       "        [None, None, None, None, None, None, None],\n",
       "        [None, None, None, None, None, None, None],\n",
       "        [None, None, None, 'Hekal', None, None, None],\n",
       "        ['Hekal', None, None, 'Omar', None, None, None]], dtype=object),\n",
       " array([[None, None, None, None, None, None, None],\n",
       "        [None, None, None, None, None, None, None],\n",
       "        [None, None, None, None, None, None, None],\n",
       "        [None, None, None, None, None, None, None],\n",
       "        [None, None, None, 'Hekal', None, None, None],\n",
       "        [None, 'Hekal', None, 'Omar', None, None, None]], dtype=object),\n",
       " array([[None, None, None, None, None, None, None],\n",
       "        [None, None, None, None, None, None, None],\n",
       "        [None, None, None, None, None, None, None],\n",
       "        [None, None, None, None, None, None, None],\n",
       "        [None, None, None, 'Hekal', None, None, None],\n",
       "        [None, None, 'Hekal', 'Omar', None, None, None]], dtype=object),\n",
       " array([[None, None, None, None, None, None, None],\n",
       "        [None, None, None, None, None, None, None],\n",
       "        [None, None, None, None, None, None, None],\n",
       "        [None, None, None, 'Hekal', None, None, None],\n",
       "        [None, None, None, 'Hekal', None, None, None],\n",
       "        [None, None, None, 'Omar', None, None, None]], dtype=object),\n",
       " array([[None, None, None, None, None, None, None],\n",
       "        [None, None, None, None, None, None, None],\n",
       "        [None, None, None, None, None, None, None],\n",
       "        [None, None, None, None, None, None, None],\n",
       "        [None, None, None, 'Hekal', None, None, None],\n",
       "        [None, None, None, 'Omar', 'Hekal', None, None]], dtype=object),\n",
       " array([[None, None, None, None, None, None, None],\n",
       "        [None, None, None, None, None, None, None],\n",
       "        [None, None, None, None, None, None, None],\n",
       "        [None, None, None, None, None, None, None],\n",
       "        [None, None, None, 'Hekal', None, None, None],\n",
       "        [None, None, None, 'Omar', None, 'Hekal', None]], dtype=object),\n",
       " array([[None, None, None, None, None, None, None],\n",
       "        [None, None, None, None, None, None, None],\n",
       "        [None, None, None, None, None, None, None],\n",
       "        [None, None, None, None, None, None, None],\n",
       "        [None, None, None, 'Hekal', None, None, None],\n",
       "        [None, None, None, 'Omar', None, None, 'Hekal']], dtype=object)]"
      ]
     },
     "execution_count": 55,
     "metadata": {},
     "output_type": "execute_result"
    }
   ],
   "source": [
    "nexty"
   ]
  },
  {
   "cell_type": "code",
   "execution_count": 6,
   "metadata": {},
   "outputs": [
    {
     "name": "stdout",
     "output_type": "stream",
     "text": [
      "1\n"
     ]
    },
    {
     "ename": "SystemExit",
     "evalue": "0",
     "output_type": "error",
     "traceback": [
      "An exception has occurred, use %tb to see the full traceback.\n",
      "\u001b[1;31mSystemExit\u001b[0m\u001b[1;31m:\u001b[0m 0\n"
     ]
    },
    {
     "name": "stderr",
     "output_type": "stream",
     "text": [
      "c:\\users\\ahmed hekal\\appdata\\local\\programs\\python\\python36\\lib\\site-packages\\IPython\\core\\interactiveshell.py:2969: UserWarning: To exit: use 'exit', 'quit', or Ctrl-D.\n",
      "  warn(\"To exit: use 'exit', 'quit', or Ctrl-D.\", stacklevel=1)\n"
     ]
    }
   ],
   "source": [
    "import sys\n",
    "from PySide2 import QtGui, QtCore, QtWidgets\n",
    "from PySide2.QtWidgets import QApplication, QPushButton, QWidget, QHBoxLayout, QVBoxLayout, QFileDialog, QLineEdit\n",
    "\n",
    "\n",
    "color1='red'\n",
    "color2='yellow'\n",
    "\n",
    "def on_enter_button_clicked():\n",
    "    print('hello world')\n",
    "    \n",
    "def col(n):\n",
    "    print(n)\n",
    "    game.play(game.get_player2(),n)\n",
    "\n",
    "    \n",
    "    \n",
    "class Example(QWidget):\n",
    "    \n",
    "    def __init__(self):\n",
    "        super(Example, self).__init__() \n",
    "        \n",
    "\n",
    "        \n",
    "        self.initUI()\n",
    "        \n",
    "\n",
    "\n",
    "        \n",
    "        \n",
    "    def initUI(self):      \n",
    "        self.setGeometry(300, 300, 770, 700)\n",
    "        self.setWindowTitle('Colors')\n",
    "        \n",
    "        #buttons = []\n",
    "        x=115\n",
    "        count=0\n",
    "\n",
    "        \n",
    "        clickbutton0 = QPushButton(\"Click\", self)\n",
    "        clickbutton0.setFixedSize(50, 32)\n",
    "        #clickbutton.setStyleSheet(\"QPushButton{border-radius: 5px;background: #C71585; font:bold 16px;color: white;}\")\n",
    "        clickbutton0.clicked.connect((lambda :col(0)))\n",
    "        clickbutton0.move(x,120)\n",
    "        x+=82\n",
    "\n",
    "        clickbutton1 = QPushButton(\"Click\", self)\n",
    "        clickbutton1.setFixedSize(50, 32)\n",
    "        #clickbutton.setStyleSheet(\"QPushButton{border-radius: 5px;background: #C71585; font:bold 16px;color: white;}\")\n",
    "        clickbutton1.clicked.connect((lambda :col(1)))\n",
    "        clickbutton1.move(x,120)\n",
    "        \n",
    "        x+=82\n",
    "        clickbutton2 = QPushButton(\"Click\", self)\n",
    "        clickbutton2.setFixedSize(50, 32)\n",
    "        #clickbutton.setStyleSheet(\"QPushButton{border-radius: 5px;background: #C71585; font:bold 16px;color: white;}\")\n",
    "        clickbutton2.clicked.connect((lambda :col(2)))\n",
    "        clickbutton2.move(x,120)\n",
    "        \n",
    "        x+=82\n",
    "\n",
    "        clickbutton3 = QPushButton(\"Click\", self)\n",
    "        clickbutton3.setFixedSize(50, 32)\n",
    "        #clickbutton.setStyleSheet(\"QPushButton{border-radius: 5px;background: #C71585; font:bold 16px;color: white;}\")\n",
    "        clickbutton3.clicked.connect((lambda :col(3)))\n",
    "        clickbutton3.move(x,120)\n",
    "        \n",
    "        \n",
    "        x+=82\n",
    "\n",
    "        clickbutton4 = QPushButton(\"Click\", self)\n",
    "        clickbutton4.setFixedSize(50, 32)\n",
    "        #clickbutton.setStyleSheet(\"QPushButton{border-radius: 5px;background: #C71585; font:bold 16px;color: white;}\")\n",
    "        clickbutton4.clicked.connect((lambda :col(4)))\n",
    "        clickbutton4.move(x,120)\n",
    "        \n",
    "        \n",
    "        x+=82\n",
    "\n",
    "        clickbutton5 = QPushButton(\"Click\", self)\n",
    "        clickbutton5.setFixedSize(50, 32)\n",
    "        #clickbutton.setStyleSheet(\"QPushButton{border-radius: 5px;background: #C71585; font:bold 16px;color: white;}\")\n",
    "        clickbutton5.clicked.connect((lambda :col(5)))\n",
    "        clickbutton5.move(x,120)\n",
    "        x+=82\n",
    "\n",
    "        clickbutton6 = QPushButton(\"Click\", self)\n",
    "        clickbutton6.setFixedSize(50, 32)\n",
    "        #clickbutton.setStyleSheet(\"QPushButton{border-radius: 5px;background: #C71585; font:bold 16px;color: white;}\")\n",
    "        clickbutton6.clicked.connect((lambda :col(6)))\n",
    "        clickbutton6.move(x,120)\n",
    "        \n",
    "        \n",
    "                               \n",
    "        self.show()\n",
    "\n",
    "    def paintEvent(self, e):\n",
    "        qp = QtGui.QPainter()\n",
    "        qp.begin(self)\n",
    "        self.drawRectangles(qp)\n",
    "        qp.end()\n",
    "        \n",
    "       \n",
    "    def drawRectangles(self, qp):\n",
    "        \n",
    "        color = QtGui.QColor(0, 0, 0)\n",
    "        color.setNamedColor('#0000FF')\n",
    "        qp.setPen(color)\n",
    "        \n",
    "        qp.setBrush(QtGui.QColor(0,0,255))\n",
    "        qp.drawRect(100, 160, 570, 500)\n",
    "        \n",
    "        qp.setBrush(QtGui.QColor(25,25,112))\n",
    "        qp.drawRect(90, 650, 590, 20)\n",
    "        \n",
    "\n",
    "        color.setNamedColor('#FFFFFF')   \n",
    "        qp.setPen(color)\n",
    "        qp.setBrush(QtGui.QColor(255,255,255))\n",
    "        x,y,w,h=110,570,70,70\n",
    "        for i in range (6):\n",
    "            for j in range(7):\n",
    "                qp.drawEllipse(x, y, w, h)\n",
    "                x+=80\n",
    "                #print(x)\n",
    "            x=110\n",
    "            y-=80\n",
    "            \n",
    "\n",
    "\n",
    "\n",
    "#         label = QtWidgets.QLabel(self)\n",
    "#         label.setFrameStyle(QtWidgets.QFrame.Panel | QtWidgets.QFrame.Sunken)\n",
    "#         label.setText(\"first line\\nsecond line\")\n",
    "#         label.setAlignment(QtCore.Qt.AlignBottom | QtCore.Qt.AlignRight)\n",
    "#         label1 = QtWidgets.QLabel(text=\"Your turn !\")\n",
    "#         vbox = QVBoxLayout(self)\n",
    "#         vbox.addWidget(label1)\n",
    "#         #self.lineEdit.setFrameStyle(QtWidgets.QFrame.Panel | QtWidgets.QFrame.Sunken)\n",
    "#         label1.setAlignment(QtCore.Qt.AlignTop | QtCore.Qt.AlignHCenter)\n",
    "#         label1.setStyleSheet(\"QLabel{font:bold 29px;color:#6A5ACD}\")\n",
    "\n",
    "        \n",
    "            \n",
    "\n",
    "\n",
    "\n",
    "    \n",
    "#         label2 = QtWidgets.QLabel(text=\"his turn ?!\")\n",
    "#         vbox = QVBoxLayout(self)\n",
    "#         vbox.addWidget(label2)\n",
    "#         #self.lineEdit.setFrameStyle(QtWidgets.QFrame.Panel | QtWidgets.QFrame.Sunken)\n",
    "#         label2.setAlignment(QtCore.Qt.AlignBottom| QtCore.Qt.AlignHCenter)\n",
    "#         label2.setStyleSheet(\"QLabel{font:bold 29px;color:#0000FF}\")\n",
    "\n",
    "\n",
    "\n",
    "\n",
    "    \n",
    "    \n",
    "\n",
    "def main():\n",
    "    app = QApplication(sys.argv)\n",
    "    ex = Example()\n",
    "    sys.exit(app.exec_())\n",
    "\n",
    "\n",
    "if __name__ == '__main__':\n",
    "    main()\n",
    "    \n"
   ]
  },
  {
   "cell_type": "code",
   "execution_count": 7,
   "metadata": {},
   "outputs": [
    {
     "name": "stdout",
     "output_type": "stream",
     "text": [
      "None    None    None    None    None    None    None    \n",
      "None    None    None    None    None    None    None    \n",
      "None    None    None    None    None    None    None    \n",
      "None    None    None    None    None    None    None    \n",
      "None    None    None    None    None    None    None    \n",
      "None    Hekal   None    Omar    None    None    None    \n"
     ]
    }
   ],
   "source": [
    "game.show()"
   ]
  },
  {
   "cell_type": "code",
   "execution_count": null,
   "metadata": {},
   "outputs": [],
   "source": []
  }
 ],
 "metadata": {
  "kernelspec": {
   "display_name": "Python 3",
   "language": "python",
   "name": "python3"
  },
  "language_info": {
   "codemirror_mode": {
    "name": "ipython",
    "version": 3
   },
   "file_extension": ".py",
   "mimetype": "text/x-python",
   "name": "python",
   "nbconvert_exporter": "python",
   "pygments_lexer": "ipython3",
   "version": "3.6.5"
  }
 },
 "nbformat": 4,
 "nbformat_minor": 2
}
