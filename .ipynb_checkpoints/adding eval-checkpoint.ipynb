{
 "cells": [
  {
   "cell_type": "code",
   "execution_count": 1,
   "metadata": {},
   "outputs": [],
   "source": [
    "import numpy as np"
   ]
  },
  {
   "cell_type": "code",
   "execution_count": 2,
   "metadata": {},
   "outputs": [],
   "source": [
    "class Connect4:\n",
    "    def __init__(self, width=7, height=6, player1='player1', player2='player2'):\n",
    "        self.__board = np.full((height, width), None)\n",
    "        self.__pos = width * [height - 1]\n",
    "        self.__lists = []\n",
    "        self.__player1 = player1\n",
    "        self.__player2 = player2\n",
    "        self.__width = width\n",
    "        self.__height = height\n",
    "\n",
    "    def play(self, player, col):\n",
    "        row = self.__pos[col]\n",
    "        assert row >= 0, 'this column is full can\\'t put more pieces in it'\n",
    "        assert player in [self.__player1, self.__player2], '{} is not a player in this game'.format(player)\n",
    "        self.__board[row][col] = player\n",
    "        self.__pos[col] -= 1\n",
    "\n",
    "    def get_state(self):\n",
    "        return self.__board\n",
    "    \n",
    "    def get_player1(self):\n",
    "        return self.__player1\n",
    "\n",
    "    def get_player2(self):\n",
    "        return self.__player2\n",
    "\n",
    "    def set_player1(self, player_name):\n",
    "        assert not self.__board.any(), 'player name can\\'t be set during the game'\n",
    "        self.__player1 = player_name\n",
    "\n",
    "    def set_player2(self, player_name):\n",
    "        assert not self.__board.any(), 'player name can\\'t be set during the game'\n",
    "        self.__player2 = player_name\n",
    "\n",
    "    def is_winner(self, state, player):\n",
    "        (posh, posw), board = state\n",
    "        height, width = board.shape\n",
    "        \n",
    "        #detect vertical\n",
    "        if posh > 2:\n",
    "            i = 0\n",
    "            while i < 4:\n",
    "                if board[posh-i][posw]!=player:\n",
    "                    break\n",
    "                i+=1\n",
    "            else:\n",
    "                return 1\n",
    "        \n",
    "        #detect horizontal\n",
    "        i = max(0, posw-3)\n",
    "        j = min(width, posw+4)\n",
    "        count = 0\n",
    "        while i < j:\n",
    "            if board[posh][i] != player:\n",
    "                count = 0\n",
    "            else:\n",
    "                count += 1\n",
    "            i+=1\n",
    "            if count >= 4:\n",
    "                return 1        \n",
    "                \n",
    "        #detect diagonal /\n",
    "        low = min(height-posh-1, posw, 3)\n",
    "        #i, j = posh+low, posw-low\n",
    "        high = min(posh, width-posw-1, 3)\n",
    "        #i, j = posh-high, posw+high\n",
    "        if high + low > 2:\n",
    "            count = 0\n",
    "            i, j = posh+low, posw-low\n",
    "            while i >= posh-high:\n",
    "                if board[i][j] != player:\n",
    "                    count = 0\n",
    "                else:\n",
    "                    count += 1\n",
    "                i-=1; j+=1\n",
    "                if count >= 4:\n",
    "                    return 1\n",
    "                \n",
    "        #detect diagonal \\\n",
    "        low = min(height-posh-1, width-posw-1, 3)\n",
    "        #i, j = posh+low, posw+low\n",
    "        high = min(posh, posw, 3)\n",
    "        #i, j = posh-high, posw-high\n",
    "        if high + low > 2:\n",
    "            count = 0\n",
    "            i, j = posh+low, posw+low\n",
    "            while i >= posh-high:\n",
    "                if board[i][j] != player:\n",
    "                    count = 0\n",
    "                else:\n",
    "                    count += 1\n",
    "                i-=1; j-=1\n",
    "                if count >= 4:\n",
    "                    return 1\n",
    "                \n",
    "        full=1\n",
    "        for i in range(self.__height): \n",
    "             for j in range(self.__width):\n",
    "                    if(self.__board[i][j]==None):\n",
    "                        full=0\n",
    "                        break\n",
    "        if(full==1):\n",
    "            return(-1)\n",
    "        \n",
    "        return 0\n",
    "    \n",
    "    \n",
    "    def next_state(self, state , player_name):\n",
    "        initial_board = state[1]\n",
    "        height, width = initial_board.shape\n",
    "        boards = []\n",
    "        for j in range(width):\n",
    "            board = initial_board.copy()\n",
    "            if board[0][j] == None:\n",
    "                col_free_flag = 0\n",
    "                for i in range(1,height):\n",
    "                    if board[i][j] != None:\n",
    "                        col_free_flag = 1 #the column not empty\n",
    "                        board[i-1][j] = player_name\n",
    "                        boards.append(((i-1, j), board))\n",
    "                        break\n",
    "                if col_free_flag==0: \n",
    "                    board[height-1][j] = player_name\n",
    "                    boards.append(((height-1, j), board))\n",
    "        return boards  \n",
    "    \n",
    "    \n",
    "    def eval_state(self, state, me):\n",
    "        he = self.__player2 if me is self.__player1 else self.__player1\n",
    "        ret = self.is_winner(state, he)\n",
    "        if ret == 1:\n",
    "            if he == self.__player1:\n",
    "                return float(\"inf\")\n",
    "            else:\n",
    "                return -float(\"inf\")\n",
    "        elif ret == -1:\n",
    "            return 0\n",
    "        else:\n",
    "            score = 0\n",
    "            n_states = self.next_state(state, me)\n",
    "            for s in n_states:\n",
    "                score += self.eval_r(s, he, 2)\n",
    "            return score\n",
    "            \n",
    "\n",
    "    def eval_r(self, state, me, level):\n",
    "        score = 0\n",
    "        he = self.__player2 if me is self.__player1 else self.__player1\n",
    "        ret = self.is_winner(state, he)\n",
    "        \n",
    "        if ret == 1:\n",
    "            if he == self.__player1:\n",
    "                score = level**2\n",
    "            else:\n",
    "                score = -(level**2)\n",
    "        elif ret == -1:\n",
    "            score = 0\n",
    "        else:\n",
    "            n_states = self.next_state(state, me)\n",
    "            for s in n_states:\n",
    "                score += self.eval_r(s, he, level+1)\n",
    "        return score\n",
    "        \n",
    "\n",
    "    def show(self):\n",
    "        p1 = self.__player1\n",
    "        p2 = self.__player2\n",
    "        length = max(len(p1), len(p2), 4)\n",
    "        for i in self.__board: \n",
    "            for j in i:\n",
    "                print(str(j).ljust(length), end=\"   \")\n",
    "            print()\n"
   ]
  },
  {
   "cell_type": "code",
   "execution_count": 3,
   "metadata": {},
   "outputs": [],
   "source": [
    "game = Connect4()"
   ]
  },
  {
   "cell_type": "code",
   "execution_count": 4,
   "metadata": {},
   "outputs": [],
   "source": [
    "game.set_player1('Omar')"
   ]
  },
  {
   "cell_type": "code",
   "execution_count": 5,
   "metadata": {},
   "outputs": [],
   "source": [
    "game.set_player2('Hekal')"
   ]
  },
  {
   "cell_type": "code",
   "execution_count": 6,
   "metadata": {},
   "outputs": [
    {
     "name": "stdout",
     "output_type": "stream",
     "text": [
      "None    None    None    None    None    None    None    \n",
      "None    None    None    None    None    None    None    \n",
      "None    None    None    None    None    None    None    \n",
      "None    None    None    None    None    None    None    \n",
      "None    None    None    None    None    None    None    \n",
      "None    None    None    Omar    None    None    None    \n"
     ]
    }
   ],
   "source": [
    "game.play('Omar',3)\n",
    "game.show()"
   ]
  },
  {
   "cell_type": "code",
   "execution_count": 7,
   "metadata": {},
   "outputs": [
    {
     "name": "stdout",
     "output_type": "stream",
     "text": [
      "None    None    None    None    None    None    None    \n",
      "None    None    None    None    None    None    None    \n",
      "None    None    None    None    None    None    None    \n",
      "None    None    None    None    None    None    None    \n",
      "None    None    None    Hekal   None    None    None    \n",
      "None    None    None    Omar    None    None    None    \n"
     ]
    }
   ],
   "source": [
    "game.play('Hekal',3)\n",
    "game.show()"
   ]
  },
  {
   "cell_type": "code",
   "execution_count": 8,
   "metadata": {},
   "outputs": [
    {
     "name": "stdout",
     "output_type": "stream",
     "text": [
      "[[None None None None None None None]\n",
      " [None None None None None None None]\n",
      " [None None None None None None None]\n",
      " [None None None None None None None]\n",
      " [None None None 'Hekal' None None None]\n",
      " [None None None 'Omar' None None None]]\n"
     ]
    }
   ],
   "source": [
    "state = game._Connect4__board\n",
    "print(state)"
   ]
  },
  {
   "cell_type": "code",
   "execution_count": 9,
   "metadata": {},
   "outputs": [],
   "source": [
    "nexty=game.next_state(((4,3),state),'Hekal')"
   ]
  },
  {
   "cell_type": "code",
   "execution_count": 10,
   "metadata": {},
   "outputs": [
    {
     "name": "stdout",
     "output_type": "stream",
     "text": [
      "None    None    None    None    None    None    None    \n",
      "None    None    None    None    None    None    None    \n",
      "None    None    None    None    None    None    None    \n",
      "None    None    None    None    None    None    None    \n",
      "None    None    None    Hekal   None    None    None    \n",
      "None    None    None    Omar    None    None    None    \n"
     ]
    }
   ],
   "source": [
    "game.show()"
   ]
  },
  {
   "cell_type": "code",
   "execution_count": 11,
   "metadata": {},
   "outputs": [
    {
     "data": {
      "text/plain": [
       "[((5, 0), array([[None, None, None, None, None, None, None],\n",
       "         [None, None, None, None, None, None, None],\n",
       "         [None, None, None, None, None, None, None],\n",
       "         [None, None, None, None, None, None, None],\n",
       "         [None, None, None, 'Hekal', None, None, None],\n",
       "         ['Hekal', None, None, 'Omar', None, None, None]], dtype=object)),\n",
       " ((5, 1), array([[None, None, None, None, None, None, None],\n",
       "         [None, None, None, None, None, None, None],\n",
       "         [None, None, None, None, None, None, None],\n",
       "         [None, None, None, None, None, None, None],\n",
       "         [None, None, None, 'Hekal', None, None, None],\n",
       "         [None, 'Hekal', None, 'Omar', None, None, None]], dtype=object)),\n",
       " ((5, 2), array([[None, None, None, None, None, None, None],\n",
       "         [None, None, None, None, None, None, None],\n",
       "         [None, None, None, None, None, None, None],\n",
       "         [None, None, None, None, None, None, None],\n",
       "         [None, None, None, 'Hekal', None, None, None],\n",
       "         [None, None, 'Hekal', 'Omar', None, None, None]], dtype=object)),\n",
       " ((3, 3), array([[None, None, None, None, None, None, None],\n",
       "         [None, None, None, None, None, None, None],\n",
       "         [None, None, None, None, None, None, None],\n",
       "         [None, None, None, 'Hekal', None, None, None],\n",
       "         [None, None, None, 'Hekal', None, None, None],\n",
       "         [None, None, None, 'Omar', None, None, None]], dtype=object)),\n",
       " ((5, 4), array([[None, None, None, None, None, None, None],\n",
       "         [None, None, None, None, None, None, None],\n",
       "         [None, None, None, None, None, None, None],\n",
       "         [None, None, None, None, None, None, None],\n",
       "         [None, None, None, 'Hekal', None, None, None],\n",
       "         [None, None, None, 'Omar', 'Hekal', None, None]], dtype=object)),\n",
       " ((5, 5), array([[None, None, None, None, None, None, None],\n",
       "         [None, None, None, None, None, None, None],\n",
       "         [None, None, None, None, None, None, None],\n",
       "         [None, None, None, None, None, None, None],\n",
       "         [None, None, None, 'Hekal', None, None, None],\n",
       "         [None, None, None, 'Omar', None, 'Hekal', None]], dtype=object)),\n",
       " ((5, 6), array([[None, None, None, None, None, None, None],\n",
       "         [None, None, None, None, None, None, None],\n",
       "         [None, None, None, None, None, None, None],\n",
       "         [None, None, None, None, None, None, None],\n",
       "         [None, None, None, 'Hekal', None, None, None],\n",
       "         [None, None, None, 'Omar', None, None, 'Hekal']], dtype=object))]"
      ]
     },
     "execution_count": 11,
     "metadata": {},
     "output_type": "execute_result"
    }
   ],
   "source": [
    "nexty"
   ]
  },
  {
   "cell_type": "code",
   "execution_count": 12,
   "metadata": {},
   "outputs": [],
   "source": [
    "game = Connect4()"
   ]
  },
  {
   "cell_type": "code",
   "execution_count": 13,
   "metadata": {},
   "outputs": [],
   "source": [
    "# players = [game.get_player1(), game.get_player2()]\n",
    "# for i in range(5):\n",
    "#     game.play(players[i%2], i)\n",
    "#     game.play(players[i%2], i)\n",
    "#     game.play(players[i%2], i)\n",
    "#     game.play(players[(i+1)%2], i)\n",
    "#     game.play(players[(i+1)%2], i)\n",
    "#     game.play(players[(i+1)%2], i)"
   ]
  },
  {
   "cell_type": "code",
   "execution_count": 14,
   "metadata": {},
   "outputs": [],
   "source": [
    "# game.play(game.get_player1(), 6)\n",
    "# game.play(game.get_player1(), 6)\n",
    "# game.play(game.get_player1(), 6)\n",
    "\n",
    "# game.play(game.get_player2(), 5)\n",
    "# game.play(game.get_player2(), 5)\n",
    "game.play(game.get_player2(), 5)"
   ]
  },
  {
   "cell_type": "code",
   "execution_count": 15,
   "metadata": {},
   "outputs": [
    {
     "name": "stdout",
     "output_type": "stream",
     "text": [
      "None      None      None      None      None      None      None      \n",
      "None      None      None      None      None      None      None      \n",
      "None      None      None      None      None      None      None      \n",
      "None      None      None      None      None      None      None      \n",
      "None      None      None      None      None      None      None      \n",
      "None      None      None      None      None      player2   None      \n"
     ]
    }
   ],
   "source": [
    "game.show()"
   ]
  },
  {
   "cell_type": "code",
   "execution_count": null,
   "metadata": {},
   "outputs": [],
   "source": [
    "game.eval_state(((5,5),game.get_state()), game.get_player1())"
   ]
  },
  {
   "cell_type": "code",
   "execution_count": null,
   "metadata": {},
   "outputs": [],
   "source": []
  }
 ],
 "metadata": {
  "kernelspec": {
   "display_name": "Python 3",
   "language": "python",
   "name": "python3"
  },
  "language_info": {
   "codemirror_mode": {
    "name": "ipython",
    "version": 3
   },
   "file_extension": ".py",
   "mimetype": "text/x-python",
   "name": "python",
   "nbconvert_exporter": "python",
   "pygments_lexer": "ipython3",
   "version": "3.7.0"
  }
 },
 "nbformat": 4,
 "nbformat_minor": 2
}
