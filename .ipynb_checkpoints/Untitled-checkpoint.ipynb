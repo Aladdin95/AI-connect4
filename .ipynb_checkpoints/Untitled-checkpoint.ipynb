{
 "cells": [
  {
   "cell_type": "code",
   "execution_count": 43,
   "metadata": {},
   "outputs": [],
   "source": [
    "import numpy as np\n",
    "\n",
    "\n",
    "class Connect4:\n",
    "    def __init__(self, width=7, height=6, player1='player1', player2='player2'):\n",
    "        self.__board = np.full((height, width), None)\n",
    "        self.__pos = width * [height - 1]\n",
    "        self.__lists = []\n",
    "        self.__player1 = player1\n",
    "        self.__player2 = player2\n",
    "        self.__width = width\n",
    "        self.__height = height\n",
    "\n",
    "    def play(self, player, col):\n",
    "        row = self.__pos[col]\n",
    "        assert row >= 0, 'this column is full can\\'t put more pieces in it'\n",
    "        assert player in [self.__player1, self.__player2], '{} is not a player in this game'.format(player)\n",
    "        self.__board[row][col] = player\n",
    "        self.__pos[col] -= 1\n",
    "\n",
    "    def get_state(self):\n",
    "        return self.__board\n",
    "    \n",
    "    def get_player1(self):\n",
    "        return self.__player1\n",
    "\n",
    "    def get_player2(self):\n",
    "        return self.__player2\n",
    "\n",
    "    def set_player1(self, player_name):\n",
    "        assert not self.__board.any(), 'player name can\\'t be set during the game'\n",
    "        self.__player1 = player_name\n",
    "\n",
    "    def set_player2(self, player_name):\n",
    "        assert not self.__board.any(), 'player name can\\'t be set during the game'\n",
    "        self.__player2 = player_name\n",
    "\n",
    "    def is_winner(self,board,player):\n",
    "        #detect vertical\n",
    "        for i in range(self.__width):\n",
    "            count=0\n",
    "            for j in range(self.__height):\n",
    "                if(self.__board[j][i]==player):\n",
    "                    count+=1\n",
    "                else:\n",
    "                    count=0\n",
    "            if(count>=4):\n",
    "                return(1)\n",
    "        \n",
    "       \n",
    "        \n",
    "        #detect horizontal\n",
    "        for i in range(self.__height):\n",
    "            count=0\n",
    "            for j in range(self.__width):\n",
    "                if(self.__board[i][j]==player):\n",
    "                    count+=1\n",
    "                else:\n",
    "                    count=0\n",
    "                    \n",
    "                if(count>=4):\n",
    "                    return(1)         \n",
    "                \n",
    "                \n",
    "        \n",
    "        #detect diagonal /\n",
    "        for i in range(3,self.__height):\n",
    "            for j in range(self.__width-3):\n",
    "                if(self.__board[i][j]==player and self.__board[i-1][j+1]==player\n",
    "                  and self.__board[i-2][j+2]==player and self.__board[i-3][j+3]==player):\n",
    "                    return(1)\n",
    "                \n",
    "                \n",
    "        #detect diagonal \\\n",
    "        for i in range(3,self.__height):\n",
    "            for j in range(3,self.__width):\n",
    "                if(self.__board[i][j]==player and self.__board[i-1][j-1]==player\n",
    "                  and self.__board[i-2][j-2]==player and self.__board[i-3][j-3]==player):\n",
    "                    return(1)\n",
    "            \n",
    "        full=1\n",
    "        for i in range(self.__height): \n",
    "             for j in range(self.__width):\n",
    "                    if(self.__board[i][j]==None):\n",
    "                        full=0\n",
    "                        break\n",
    "        if(full==1):\n",
    "            return(-1)\n",
    "        \n",
    "        return 0\n",
    "    \n",
    "    def next_state(self,state , player_name):\n",
    "        boards = []\n",
    "        for j in range(7):\n",
    "            board = state.copy()\n",
    "            if board[0][j] == None:\n",
    "                \n",
    "                col_free_flag = 0\n",
    "                for i in range(1,6):\n",
    "                    if board[i][j] != None:\n",
    "                        col_free_flag = 1 #the column not empty\n",
    "                        board[i-1][j] = player_name\n",
    "                        boards.append(board)\n",
    "                        break\n",
    "                if col_free_flag==0: \n",
    "                    board[5][j] = player_name\n",
    "                    boards.append(board)\n",
    "                \n",
    "        return boards   \n",
    "        \n",
    "\n",
    "    def show(self):\n",
    "        p1 = self.__player1\n",
    "        p2 = self.__player2\n",
    "        length = max(len(p1), len(p2), 4)\n",
    "        for i in self.__board:\n",
    "            for j in i:\n",
    "                print(str(j).ljust(length), end=\"   \")\n",
    "            print()\n"
   ]
  },
  {
   "cell_type": "code",
   "execution_count": 44,
   "metadata": {},
   "outputs": [],
   "source": [
    "game = Connect4()"
   ]
  },
  {
   "cell_type": "code",
   "execution_count": 45,
   "metadata": {},
   "outputs": [],
   "source": [
    "game.set_player1('Omar')"
   ]
  },
  {
   "cell_type": "code",
   "execution_count": 46,
   "metadata": {},
   "outputs": [],
   "source": [
    "game.set_player2('Hekal')"
   ]
  },
  {
   "cell_type": "code",
   "execution_count": 47,
   "metadata": {},
   "outputs": [
    {
     "name": "stdout",
     "output_type": "stream",
     "text": [
      "None    None    None    None    None    None    None    \n",
      "None    None    None    None    None    None    None    \n",
      "None    None    None    None    None    None    None    \n",
      "None    None    None    None    None    None    None    \n",
      "None    None    None    None    None    None    None    \n",
      "None    None    None    Omar    None    None    None    \n"
     ]
    }
   ],
   "source": [
    "game.play('Omar',3)\n",
    "game.show()"
   ]
  },
  {
   "cell_type": "code",
   "execution_count": 48,
   "metadata": {},
   "outputs": [
    {
     "name": "stdout",
     "output_type": "stream",
     "text": [
      "None    None    None    None    None    None    None    \n",
      "None    None    None    None    None    None    None    \n",
      "None    None    None    None    None    None    None    \n",
      "None    None    None    None    None    None    None    \n",
      "None    None    None    Hekal   None    None    None    \n",
      "None    None    None    Omar    None    None    None    \n"
     ]
    }
   ],
   "source": [
    "game.play('Hekal',3)\n",
    "game.show()"
   ]
  },
  {
   "cell_type": "code",
   "execution_count": 49,
   "metadata": {},
   "outputs": [
    {
     "name": "stdout",
     "output_type": "stream",
     "text": [
      "[[None None None None None None None]\n",
      " [None None None None None None None]\n",
      " [None None None None None None None]\n",
      " [None None None None None None None]\n",
      " [None None None 'Hekal' None None None]\n",
      " [None None None 'Omar' None None None]]\n"
     ]
    }
   ],
   "source": [
    "state = game._Connect4__board\n",
    "print(state)"
   ]
  },
  {
   "cell_type": "code",
   "execution_count": 53,
   "metadata": {},
   "outputs": [],
   "source": [
    "nexty=game.next_state(state,'Hekal')"
   ]
  },
  {
   "cell_type": "code",
   "execution_count": 54,
   "metadata": {},
   "outputs": [
    {
     "name": "stdout",
     "output_type": "stream",
     "text": [
      "None    None    None    None    None    None    None    \n",
      "None    None    None    None    None    None    None    \n",
      "None    None    None    None    None    None    None    \n",
      "None    None    None    None    None    None    None    \n",
      "None    None    None    Hekal   None    None    None    \n",
      "None    None    None    Omar    None    None    None    \n"
     ]
    }
   ],
   "source": [
    "game.show()"
   ]
  },
  {
   "cell_type": "code",
   "execution_count": 55,
   "metadata": {},
   "outputs": [
    {
     "data": {
      "text/plain": [
       "[array([[None, None, None, None, None, None, None],\n",
       "        [None, None, None, None, None, None, None],\n",
       "        [None, None, None, None, None, None, None],\n",
       "        [None, None, None, None, None, None, None],\n",
       "        [None, None, None, 'Hekal', None, None, None],\n",
       "        ['Hekal', None, None, 'Omar', None, None, None]], dtype=object),\n",
       " array([[None, None, None, None, None, None, None],\n",
       "        [None, None, None, None, None, None, None],\n",
       "        [None, None, None, None, None, None, None],\n",
       "        [None, None, None, None, None, None, None],\n",
       "        [None, None, None, 'Hekal', None, None, None],\n",
       "        [None, 'Hekal', None, 'Omar', None, None, None]], dtype=object),\n",
       " array([[None, None, None, None, None, None, None],\n",
       "        [None, None, None, None, None, None, None],\n",
       "        [None, None, None, None, None, None, None],\n",
       "        [None, None, None, None, None, None, None],\n",
       "        [None, None, None, 'Hekal', None, None, None],\n",
       "        [None, None, 'Hekal', 'Omar', None, None, None]], dtype=object),\n",
       " array([[None, None, None, None, None, None, None],\n",
       "        [None, None, None, None, None, None, None],\n",
       "        [None, None, None, None, None, None, None],\n",
       "        [None, None, None, 'Hekal', None, None, None],\n",
       "        [None, None, None, 'Hekal', None, None, None],\n",
       "        [None, None, None, 'Omar', None, None, None]], dtype=object),\n",
       " array([[None, None, None, None, None, None, None],\n",
       "        [None, None, None, None, None, None, None],\n",
       "        [None, None, None, None, None, None, None],\n",
       "        [None, None, None, None, None, None, None],\n",
       "        [None, None, None, 'Hekal', None, None, None],\n",
       "        [None, None, None, 'Omar', 'Hekal', None, None]], dtype=object),\n",
       " array([[None, None, None, None, None, None, None],\n",
       "        [None, None, None, None, None, None, None],\n",
       "        [None, None, None, None, None, None, None],\n",
       "        [None, None, None, None, None, None, None],\n",
       "        [None, None, None, 'Hekal', None, None, None],\n",
       "        [None, None, None, 'Omar', None, 'Hekal', None]], dtype=object),\n",
       " array([[None, None, None, None, None, None, None],\n",
       "        [None, None, None, None, None, None, None],\n",
       "        [None, None, None, None, None, None, None],\n",
       "        [None, None, None, None, None, None, None],\n",
       "        [None, None, None, 'Hekal', None, None, None],\n",
       "        [None, None, None, 'Omar', None, None, 'Hekal']], dtype=object)]"
      ]
     },
     "execution_count": 55,
     "metadata": {},
     "output_type": "execute_result"
    }
   ],
   "source": [
    "nexty"
   ]
  },
  {
   "cell_type": "code",
   "execution_count": null,
   "metadata": {},
   "outputs": [],
   "source": []
  }
 ],
 "metadata": {
  "kernelspec": {
   "display_name": "Python 3",
   "language": "python",
   "name": "python3"
  },
  "language_info": {
   "codemirror_mode": {
    "name": "ipython",
    "version": 3
   },
   "file_extension": ".py",
   "mimetype": "text/x-python",
   "name": "python",
   "nbconvert_exporter": "python",
   "pygments_lexer": "ipython3",
   "version": "3.7.0"
  }
 },
 "nbformat": 4,
 "nbformat_minor": 2
}
