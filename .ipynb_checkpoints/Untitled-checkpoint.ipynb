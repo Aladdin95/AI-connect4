{
 "cells": [
  {
   "cell_type": "code",
   "execution_count": 3,
   "metadata": {},
   "outputs": [],
   "source": [
    "import numpy as np\n",
    "\n",
    "\n",
    "class Connect4:\n",
    "    def __init__(self, width=7, height=6, player1='player1', player2='player2'):\n",
    "        self.__board = np.full((height, width), None)\n",
    "        self.__pos = width * [height - 1]\n",
    "        self.__lists = []\n",
    "        self.__player1 = player1\n",
    "        self.__player2 = player2\n",
    "        self.__width = width\n",
    "        self.__height = height\n",
    "\n",
    "    def play(self, player, col):\n",
    "        row = self.__pos[col]\n",
    "        assert row >= 0, 'this column is full can\\'t put more pieces in it'\n",
    "        assert player in [self.__player1, self.__player2], '{} is not a player in this game'.format(player)\n",
    "        self.__board[row][col] = player\n",
    "        self.__pos[col] -= 1\n",
    "\n",
    "    def get_player1(self):\n",
    "        return self.__player1\n",
    "\n",
    "    def get_player2(self):\n",
    "        return self.__player2\n",
    "\n",
    "    def set_player1(self, player_name):\n",
    "        assert not self.__board.any(), 'player name can\\'t be set during the game'\n",
    "        self.__player1 = player_name\n",
    "\n",
    "    def set_player2(self, player_name):\n",
    "        assert not self.__board.any(), 'player name can\\'t be set during the game'\n",
    "        self.__player2 = player_name\n",
    "\n",
    "    def is_winner():\n",
    "        pass\n",
    "    \n",
    "    def next_state(self , player_name):\n",
    "        boards = []\n",
    "        for j in range(7):\n",
    "            board = self.__board\n",
    "            if board[0][j] == None:\n",
    "                for i in range(1,6):\n",
    "                    if board[i][j] != None:\n",
    "                        board[i-1][j]=player_name\n",
    "                        boards.append(board)\n",
    "                        break\n",
    "        return boards   \n",
    "                        \n",
    "            \n",
    "        \n",
    "        \n",
    "        \n",
    "        \n",
    "        pass\n",
    "        \n",
    "\n",
    "    def show(self):\n",
    "        p1 = self.__player1\n",
    "        p2 = self.__player1\n",
    "        length = max(len(p1), len(p2), 4)\n",
    "        for i in self.__board:\n",
    "            for j in i:\n",
    "                print(str(j).ljust(length), end=\"   \")\n",
    "            print()\n"
   ]
  },
  {
   "cell_type": "code",
   "execution_count": 4,
   "metadata": {},
   "outputs": [],
   "source": [
    "game = Connect4()"
   ]
  },
  {
   "cell_type": "code",
   "execution_count": 5,
   "metadata": {},
   "outputs": [
    {
     "data": {
      "text/plain": [
       "<__main__.Connect4 at 0x1d0fe959f98>"
      ]
     },
     "execution_count": 5,
     "metadata": {},
     "output_type": "execute_result"
    }
   ],
   "source": [
    "game"
   ]
  },
  {
   "cell_type": "code",
   "execution_count": 6,
   "metadata": {},
   "outputs": [
    {
     "name": "stdout",
     "output_type": "stream",
     "text": [
      "None      None      None      None      None      None      None      \n",
      "None      None      None      None      None      None      None      \n",
      "None      None      None      None      None      None      None      \n",
      "None      None      None      None      None      None      None      \n",
      "None      None      None      None      None      None      None      \n",
      "None      None      None      None      None      None      None      \n"
     ]
    }
   ],
   "source": [
    "game.show()"
   ]
  },
  {
   "cell_type": "code",
   "execution_count": null,
   "metadata": {},
   "outputs": [],
   "source": []
  }
 ],
 "metadata": {
  "kernelspec": {
   "display_name": "Python 3",
   "language": "python",
   "name": "python3"
  },
  "language_info": {
   "codemirror_mode": {
    "name": "ipython",
    "version": 3
   },
   "file_extension": ".py",
   "mimetype": "text/x-python",
   "name": "python",
   "nbconvert_exporter": "python",
   "pygments_lexer": "ipython3",
   "version": "3.6.5"
  }
 },
 "nbformat": 4,
 "nbformat_minor": 2
}
